{
 "cells": [
  {
   "cell_type": "markdown",
   "metadata": {
    "id": "DfPPQ6ztJhv4"
   },
   "source": [
    "# Mask R-CNN for Recycling Object Segmentation\n",
    "\n",
    "This notebook is adopted from [Russ's Mask R-CNN notebook](https://colab.research.google.com/github/RussTedrake/manipulation/blob/master/segmentation_train.ipynb#scrollTo=xA8sBvuHNNH1).\n"
   ]
  },
  {
   "cell_type": "code",
   "execution_count": 3,
   "metadata": {
    "id": "DBIoe_tHTQgV"
   },
   "outputs": [
    {
     "name": "stdout",
     "output_type": "stream",
     "text": [
      "Cloning into 'vision'...\n",
      "remote: Enumerating objects: 263949, done.\u001b[K\n",
      "remote: Counting objects: 100% (3151/3151), done.\u001b[K\n",
      "remote: Compressing objects: 100% (673/673), done.\u001b[K\n",
      "remote: Total 263949 (delta 2941), reused 2630 (delta 2472), pack-reused 260798\u001b[K\n",
      "Receiving objects: 100% (263949/263949), 532.98 MiB | 7.23 MiB/s, done.\n",
      "Resolving deltas: 100% (240709/240709), done.\n",
      "Note: switching to 'v0.3.0'.\n",
      "\n",
      "You are in 'detached HEAD' state. You can look around, make experimental\n",
      "changes and commit them, and you can discard any commits you make in this\n",
      "state without impacting any branches by switching back to a branch.\n",
      "\n",
      "If you want to create a new branch to retain commits you create, you may\n",
      "do so (now or later) by using -c with the switch command. Example:\n",
      "\n",
      "  git switch -c <new-branch-name>\n",
      "\n",
      "Or undo this operation with:\n",
      "\n",
      "  git switch -\n",
      "\n",
      "Turn off this advice by setting config variable advice.detachedHead to false\n",
      "\n",
      "HEAD is now at be376084d8 version check against PyTorch's CUDA version\n"
     ]
    }
   ],
   "source": [
    "# !pip install cython\n",
    "# # Install pycocotools, the version by default in Colab\n",
    "# # has a bug fixed in https://github.com/cocodataset/cocoapi/pull/354\n",
    "# !pip install -U 'git+https://github.com/cocodataset/cocoapi.git#subdirectory=PythonAPI'\n",
    "\n",
    "# # Download TorchVision repo to use some files from\n",
    "# # references/detection\n",
    "# !git clone https://github.com/pytorch/vision.git\n",
    "# !cd vision && git checkout v0.3.0\n",
    "# !cp vision/references/detection/utils.py ./\n",
    "# !cp vision/references/detection/transforms.py ./\n",
    "# !cp vision/references/detection/coco_eval.py ./\n",
    "# !cp vision/references/detection/engine.py ./\n",
    "# !cp vision/references/detection/coco_utils.py ./\n",
    "\n",
    "# Imports\n",
    "import fnmatch\n",
    "import json\n",
    "import matplotlib.pyplot as plt\n",
    "import multiprocessing\n",
    "import numpy as np\n",
    "import os\n",
    "from PIL import Image\n",
    "from IPython.display import display\n",
    "\n",
    "import torch\n",
    "import torch.utils.data\n",
    "\n",
    "classes = [\"cola\", \"bottle\", \"Banana\", \"Orange\", \"coffee\"]\n",
    "\n",
    "def colorize_labels(image):\n",
    "    \"\"\"Colorizes labels.\"\"\"\n",
    "    cc = mpl.colors.ColorConverter()\n",
    "    color_cycle = plt.rcParams[\"axes.prop_cycle\"]\n",
    "    colors = np.array([cc.to_rgb(c[\"color\"]) for c in color_cycle])\n",
    "    bg_color = [0, 0, 0]\n",
    "    image = np.squeeze(image)\n",
    "    background = np.zeros(image.shape[:2], dtype=bool)\n",
    "    for label in reserved_labels:\n",
    "        background |= image == int(label)\n",
    "    foreground = image[np.logical_not(background)]\n",
    "    color_image = colors[image % len(colors)]\n",
    "    color_image[background] = bg_color\n",
    "    return color_image\n"
   ]
  },
  {
   "cell_type": "code",
   "execution_count": 7,
   "metadata": {},
   "outputs": [
    {
     "name": "stdout",
     "output_type": "stream",
     "text": [
      "['5' '1' '3' '4' '2']\n",
      "[4, 0, 2, 3, 1]\n"
     ]
    }
   ],
   "source": [
    "# A = {\"5\": \"coffee\", \"1\": \"cola\", \"3\": \"Banana\", \"4\": \"Orange\", \"2\": \"bottle\"}\n",
    "# obj_ids = np.asarray(list(A.keys()))\n",
    "# print(obj_ids)\n",
    "# labels = [classes.index(A[id]) for id in obj_ids]\n",
    "# print(labels)"
   ]
  },
  {
   "cell_type": "markdown",
   "metadata": {
    "id": "C9Ee5NV54Dmj"
   },
   "source": [
    "# Loading dataset into PyTorch"
   ]
  },
  {
   "cell_type": "code",
   "execution_count": 8,
   "metadata": {
    "id": "mTgWtixZTs3X"
   },
   "outputs": [],
   "source": [
    "# To-do: change to local directory\n",
    "dataset_path = '/tmp/clutter_maskrcnn_data'\n",
    "\n",
    "class BinPickingDataset(torch.utils.data.Dataset):\n",
    "    def __init__(self, root, transforms=None):\n",
    "        self.root = root\n",
    "        self.num_images = len(fnmatch.filter(os.listdir(root),'*.png'))\n",
    "        self.transforms = transforms\n",
    "\n",
    "    def __getitem__(self, idx):\n",
    "        filename_base = os.path.join(self.root, f\"{idx:04d}\")\n",
    "\n",
    "        img = Image.open(filename_base + \".png\").convert(\"RGB\")\n",
    "        mask = np.squeeze(np.load(filename_base + \"_mask.npy\"))\n",
    "\n",
    "        with open(filename_base + \".json\", \"r\") as f:\n",
    "            instance_id_to_class_name = json.load(f)\n",
    "\n",
    "        # instances are encoded as different colors\n",
    "        obj_ids = np.asarray(list(instance_id_to_class_name.keys()))\n",
    "        count = (mask == np.int16(obj_ids)[:, None, None]).sum(axis=2).sum(axis=1)\n",
    "        \n",
    "        # discard objects instances with less than 10 pixels\n",
    "        obj_ids = obj_ids[count >= 10]\n",
    "\n",
    "        labels = [classes.index(instance_id_to_class_name[id]) for id in obj_ids]\n",
    "        obj_ids = np.int16(np.asarray(obj_ids))\n",
    "\n",
    "        # split the color-encoded mask into a set of binary masks\n",
    "        masks = mask == obj_ids[:, None, None]\n",
    "\n",
    "        # get bounding box coordinates for each mask\n",
    "        num_objs = len(obj_ids)\n",
    "        boxes = []\n",
    "        for i in range(num_objs):\n",
    "            pos = np.where(masks[i])\n",
    "            xmin = np.min(pos[1])\n",
    "            xmax = np.max(pos[1])\n",
    "            ymin = np.min(pos[0])\n",
    "            ymax = np.max(pos[0])\n",
    "            boxes.append([xmin, ymin, xmax, ymax])\n",
    "\n",
    "        boxes = torch.as_tensor(boxes, dtype=torch.float32)\n",
    "        labels = torch.as_tensor(labels, dtype=torch.int64)\n",
    "        masks = torch.as_tensor(masks, dtype=torch.uint8)\n",
    "\n",
    "        image_id = torch.tensor([idx])\n",
    "        area = (boxes[:, 3] - boxes[:, 1]) * (boxes[:, 2] - boxes[:, 0])\n",
    "        # suppose all instances are not crowd\n",
    "        iscrowd = torch.zeros((num_objs,), dtype=torch.int64)\n",
    "\n",
    "        target = {}\n",
    "        target[\"boxes\"] = boxes\n",
    "        target[\"labels\"] = labels\n",
    "        target[\"masks\"] = masks\n",
    "        target[\"image_id\"] = image_id\n",
    "        target[\"area\"] = area\n",
    "        target[\"iscrowd\"] = iscrowd\n",
    "\n",
    "        if self.transforms is not None:\n",
    "            img, target = self.transforms(img, target)\n",
    "\n",
    "        return img, target\n",
    "\n",
    "    def __len__(self):\n",
    "        return self.num_images\n"
   ]
  },
  {
   "cell_type": "markdown",
   "metadata": {
    "id": "J6f3ZOTJ4Km9"
   },
   "source": [
    "Let's check the output of our dataset."
   ]
  },
  {
   "cell_type": "code",
   "execution_count": 15,
   "metadata": {
    "id": "ZEARO4B_ye0s"
   },
   "outputs": [
    {
     "data": {
      "text/plain": [
       "tensor([0, 0, 0, 0, 0])"
      ]
     },
     "execution_count": 15,
     "metadata": {},
     "output_type": "execute_result"
    }
   ],
   "source": [
    "dataset = BinPickingDataset(dataset_path)\n",
    "# dataset[0][1][\"boxes\"]\n",
    "dataset[0][0]"
   ]
  },
  {
   "cell_type": "markdown",
   "metadata": {
    "id": "xWA2NXwVhV_C"
   },
   "source": [
    "# Define the network\n",
    "\n",
    "This cell is where the magic begins to happen.  We load a network that is pre-trained on the COCO dataset, then replace the network head with a new (untrained) network with the right number of outputs for our YCB recognition/segmentation task."
   ]
  },
  {
   "cell_type": "code",
   "execution_count": 17,
   "metadata": {
    "id": "YjNHjVMOyYlH"
   },
   "outputs": [],
   "source": [
    "import torchvision\n",
    "from torchvision.models.detection.faster_rcnn import FastRCNNPredictor\n",
    "from torchvision.models.detection.mask_rcnn import MaskRCNNPredictor\n",
    "from torchvision.models.detection import MaskRCNN_ResNet50_FPN_Weights\n",
    "\n",
    "      \n",
    "def get_instance_segmentation_model(num_classes):\n",
    "    # load an instance segmentation model pre-trained on COCO\n",
    "    model = torchvision.models.detection.maskrcnn_resnet50_fpn(\n",
    "        weights=MaskRCNN_ResNet50_FPN_Weights.DEFAULT)\n",
    "\n",
    "    # get the number of input features for the classifier\n",
    "    in_features = model.roi_heads.box_predictor.cls_score.in_features\n",
    "    # replace the pre-trained head with a new one\n",
    "    model.roi_heads.box_predictor = FastRCNNPredictor(in_features, num_classes)\n",
    "\n",
    "    # now get the number of input features for the mask classifier\n",
    "    in_features_mask = model.roi_heads.mask_predictor.conv5_mask.in_channels\n",
    "    hidden_layer = 256\n",
    "    # and replace the mask predictor with a new one\n",
    "    model.roi_heads.mask_predictor = MaskRCNNPredictor(in_features_mask,\n",
    "                                                       hidden_layer,\n",
    "                                                       num_classes)\n",
    "\n",
    "    return model"
   ]
  },
  {
   "cell_type": "markdown",
   "metadata": {
    "id": "-WXLwePV5ieP"
   },
   "source": [
    "That's it, this will make model be ready to be trained and evaluated on our custom dataset.\n",
    "\n",
    "# Transforms\n",
    "\n",
    "Let's write some helper functions for data augmentation / transformation, which leverages the functions in torchvision `refereces/detection`. \n"
   ]
  },
  {
   "cell_type": "code",
   "execution_count": 18,
   "metadata": {
    "id": "l79ivkwKy357"
   },
   "outputs": [],
   "source": [
    "from engine import train_one_epoch, evaluate\n",
    "import utils\n",
    "import transforms as T\n",
    "\n",
    "def get_transform(train):\n",
    "    transforms = []\n",
    "    # converts the image, a PIL image, into a PyTorch Tensor\n",
    "    transforms.append(T.ToTensor())\n",
    "    if train:\n",
    "        # during training, randomly flip the training images\n",
    "        # and ground-truth for data augmentation\n",
    "        transforms.append(T.RandomHorizontalFlip(0.5))\n",
    "    return T.Compose(transforms)"
   ]
  },
  {
   "cell_type": "markdown",
   "metadata": {
    "id": "FzCLqiZk-sjf"
   },
   "source": [
    "Note that we do not need to add a mean/std normalization nor image rescaling in the data transforms, as those are handled internally by the Mask R-CNN model."
   ]
  },
  {
   "cell_type": "markdown",
   "metadata": {
    "id": "3YFJGJxk6XEs"
   },
   "source": [
    "# Putting everything together\n",
    "\n",
    "We now have the dataset class, the models and the data transforms. Let's instantiate them"
   ]
  },
  {
   "cell_type": "code",
   "execution_count": 19,
   "metadata": {
    "id": "a5dGaIezze3y"
   },
   "outputs": [],
   "source": [
    "# use our dataset and defined transformations\n",
    "dataset = BinPickingDataset(dataset_path, get_transform(train=True))\n",
    "dataset_test = BinPickingDataset(dataset_path, get_transform(train=False))\n",
    "\n",
    "# split the dataset in train and test set\n",
    "torch.manual_seed(1)\n",
    "indices = torch.randperm(len(dataset)).tolist()\n",
    "dataset = torch.utils.data.Subset(dataset, indices[:-50])\n",
    "dataset_test = torch.utils.data.Subset(dataset_test, indices[-50:])\n",
    "\n",
    "# define training and validation data loaders\n",
    "data_loader = torch.utils.data.DataLoader(\n",
    "    dataset, batch_size=2, shuffle=True, num_workers=4,\n",
    "    collate_fn=utils.collate_fn)\n",
    "\n",
    "data_loader_test = torch.utils.data.DataLoader(\n",
    "    dataset_test, batch_size=1, shuffle=False, num_workers=4,\n",
    "    collate_fn=utils.collate_fn)"
   ]
  },
  {
   "cell_type": "markdown",
   "metadata": {
    "id": "L5yvZUprj4ZN"
   },
   "source": [
    "Now let's instantiate the model and the optimizer"
   ]
  },
  {
   "cell_type": "code",
   "execution_count": 20,
   "metadata": {
    "id": "zoenkCj18C4h"
   },
   "outputs": [
    {
     "name": "stderr",
     "output_type": "stream",
     "text": [
      "Downloading: \"https://download.pytorch.org/models/maskrcnn_resnet50_fpn_coco-bf2d0c1e.pth\" to /home/jared/.cache/torch/hub/checkpoints/maskrcnn_resnet50_fpn_coco-bf2d0c1e.pth\n",
      "13.8%IOPub message rate exceeded.\n",
      "The notebook server will temporarily stop sending output\n",
      "to the client in order to avoid crashing it.\n",
      "To change this limit, set the config variable\n",
      "`--NotebookApp.iopub_msg_rate_limit`.\n",
      "\n",
      "Current values:\n",
      "NotebookApp.iopub_msg_rate_limit=1000.0 (msgs/sec)\n",
      "NotebookApp.rate_limit_window=3.0 (secs)\n",
      "\n",
      "37.6%IOPub message rate exceeded.\n",
      "The notebook server will temporarily stop sending output\n",
      "to the client in order to avoid crashing it.\n",
      "To change this limit, set the config variable\n",
      "`--NotebookApp.iopub_msg_rate_limit`.\n",
      "\n",
      "Current values:\n",
      "NotebookApp.iopub_msg_rate_limit=1000.0 (msgs/sec)\n",
      "NotebookApp.rate_limit_window=3.0 (secs)\n",
      "\n",
      "61.6%IOPub message rate exceeded.\n",
      "The notebook server will temporarily stop sending output\n",
      "to the client in order to avoid crashing it.\n",
      "To change this limit, set the config variable\n",
      "`--NotebookApp.iopub_msg_rate_limit`.\n",
      "\n",
      "Current values:\n",
      "NotebookApp.iopub_msg_rate_limit=1000.0 (msgs/sec)\n",
      "NotebookApp.rate_limit_window=3.0 (secs)\n",
      "\n",
      "83.4%IOPub message rate exceeded.\n",
      "The notebook server will temporarily stop sending output\n",
      "to the client in order to avoid crashing it.\n",
      "To change this limit, set the config variable\n",
      "`--NotebookApp.iopub_msg_rate_limit`.\n",
      "\n",
      "Current values:\n",
      "NotebookApp.iopub_msg_rate_limit=1000.0 (msgs/sec)\n",
      "NotebookApp.rate_limit_window=3.0 (secs)\n",
      "\n",
      "100.0%\n"
     ]
    }
   ],
   "source": [
    "device = torch.device('cuda') if torch.cuda.is_available() else torch.device('cpu')\n",
    "\n",
    "num_classes = len(classes)+1\n",
    "\n",
    "# get the model using our helper function\n",
    "model = get_instance_segmentation_model(num_classes)\n",
    "# move model to the right device\n",
    "model.to(device)\n",
    "\n",
    "# construct an optimizer\n",
    "params = [p for p in model.parameters() if p.requires_grad]\n",
    "optimizer = torch.optim.SGD(params, lr=0.005,\n",
    "                            momentum=0.9, weight_decay=0.0005)\n",
    "\n",
    "# and a learning rate scheduler which decreases the learning rate by\n",
    "# 10x every 3 epochs\n",
    "lr_scheduler = torch.optim.lr_scheduler.StepLR(optimizer,\n",
    "                                               step_size=3,\n",
    "                                               gamma=0.1)"
   ]
  },
  {
   "cell_type": "markdown",
   "metadata": {
    "id": "XAd56lt4kDxc"
   },
   "source": [
    "And now let's train the model for 10 epochs, evaluating at the end of every epoch."
   ]
  },
  {
   "cell_type": "code",
   "execution_count": 21,
   "metadata": {
    "id": "at-h4OWK0aoc"
   },
   "outputs": [
    {
     "name": "stdout",
     "output_type": "stream",
     "text": [
      "Epoch: [0]  [  0/225]  eta: 0:53:11  lr: 0.000027  loss: 4.4865 (4.4865)  loss_classifier: 1.5711 (1.5711)  loss_box_reg: 0.6168 (0.6168)  loss_mask: 2.0961 (2.0961)  loss_objectness: 0.1970 (0.1970)  loss_rpn_box_reg: 0.0056 (0.0056)  time: 14.1841  data: 0.1656  max mem: 0\n",
      "Epoch: [0]  [ 10/225]  eta: 0:59:14  lr: 0.000250  loss: 3.9148 (3.7479)  loss_classifier: 1.4077 (1.2949)  loss_box_reg: 0.6512 (0.6618)  loss_mask: 1.6778 (1.6791)  loss_objectness: 0.0816 (0.1048)  loss_rpn_box_reg: 0.0065 (0.0073)  time: 16.5305  data: 0.0226  max mem: 0\n",
      "Epoch: [0]  [ 20/225]  eta: 0:57:10  lr: 0.000473  loss: 2.8142 (2.9456)  loss_classifier: 0.6983 (0.9737)  loss_box_reg: 0.6714 (0.6735)  loss_mask: 1.1754 (1.2163)  loss_objectness: 0.0618 (0.0745)  loss_rpn_box_reg: 0.0069 (0.0075)  time: 16.8634  data: 0.0090  max mem: 0\n",
      "Epoch: [0]  [ 30/225]  eta: 0:55:45  lr: 0.000696  loss: 1.6939 (2.5079)  loss_classifier: 0.5193 (0.8143)  loss_box_reg: 0.6552 (0.6599)  loss_mask: 0.4882 (0.9693)  loss_objectness: 0.0130 (0.0556)  loss_rpn_box_reg: 0.0082 (0.0088)  time: 17.5003  data: 0.0093  max mem: 0\n",
      "Epoch: [0]  [ 40/225]  eta: 0:54:33  lr: 0.000919  loss: 1.5314 (2.2543)  loss_classifier: 0.4676 (0.7208)  loss_box_reg: 0.6398 (0.6570)  loss_mask: 0.3263 (0.8060)  loss_objectness: 0.0064 (0.0493)  loss_rpn_box_reg: 0.0072 (0.0212)  time: 18.7007  data: 0.0092  max mem: 0\n",
      "Epoch: [0]  [ 50/225]  eta: 0:52:43  lr: 0.001142  loss: 1.3083 (2.0509)  loss_classifier: 0.3978 (0.6507)  loss_box_reg: 0.6398 (0.6541)  loss_mask: 0.2604 (0.6863)  loss_objectness: 0.0055 (0.0418)  loss_rpn_box_reg: 0.0063 (0.0181)  time: 19.5005  data: 0.0092  max mem: 0\n",
      "Epoch: [0]  [ 60/225]  eta: 0:50:39  lr: 0.001365  loss: 1.0953 (1.8777)  loss_classifier: 0.3057 (0.5882)  loss_box_reg: 0.5788 (0.6361)  loss_mask: 0.1899 (0.6008)  loss_objectness: 0.0055 (0.0366)  loss_rpn_box_reg: 0.0053 (0.0160)  time: 19.9036  data: 0.0091  max mem: 0\n",
      "Epoch: [0]  [ 70/225]  eta: 0:48:28  lr: 0.001588  loss: 0.8997 (1.7222)  loss_classifier: 0.2323 (0.5350)  loss_box_reg: 0.4474 (0.6012)  loss_mask: 0.1360 (0.5361)  loss_objectness: 0.0046 (0.0332)  loss_rpn_box_reg: 0.0049 (0.0167)  time: 20.5225  data: 0.0094  max mem: 0\n",
      "Epoch: [0]  [ 80/225]  eta: 0:45:40  lr: 0.001811  loss: 0.7071 (1.5979)  loss_classifier: 0.2083 (0.4958)  loss_box_reg: 0.3697 (0.5694)  loss_mask: 0.1291 (0.4879)  loss_objectness: 0.0026 (0.0295)  loss_rpn_box_reg: 0.0044 (0.0153)  time: 20.3626  data: 0.0093  max mem: 0\n",
      "Epoch: [0]  [ 90/225]  eta: 0:42:46  lr: 0.002034  loss: 0.6272 (1.4908)  loss_classifier: 0.1891 (0.4621)  loss_box_reg: 0.2938 (0.5366)  loss_mask: 0.1390 (0.4512)  loss_objectness: 0.0027 (0.0267)  loss_rpn_box_reg: 0.0040 (0.0141)  time: 19.8882  data: 0.0096  max mem: 0\n",
      "Epoch: [0]  [100/225]  eta: 0:39:46  lr: 0.002257  loss: 0.5625 (1.3997)  loss_classifier: 0.1853 (0.4354)  loss_box_reg: 0.2301 (0.5071)  loss_mask: 0.1094 (0.4198)  loss_objectness: 0.0017 (0.0243)  loss_rpn_box_reg: 0.0042 (0.0132)  time: 19.8635  data: 0.0096  max mem: 0\n",
      "Epoch: [0]  [110/225]  eta: 0:36:51  lr: 0.002480  loss: 0.4931 (1.3204)  loss_classifier: 0.1714 (0.4117)  loss_box_reg: 0.2195 (0.4814)  loss_mask: 0.1002 (0.3925)  loss_objectness: 0.0018 (0.0225)  loss_rpn_box_reg: 0.0042 (0.0124)  time: 20.2365  data: 0.0094  max mem: 0\n",
      "Epoch: [0]  [120/225]  eta: 0:33:50  lr: 0.002703  loss: 0.4941 (1.2567)  loss_classifier: 0.1608 (0.3931)  loss_box_reg: 0.2195 (0.4601)  loss_mask: 0.1002 (0.3701)  loss_objectness: 0.0029 (0.0215)  loss_rpn_box_reg: 0.0048 (0.0118)  time: 20.5849  data: 0.0093  max mem: 0\n",
      "Epoch: [0]  [130/225]  eta: 0:30:38  lr: 0.002926  loss: 0.4968 (1.1996)  loss_classifier: 0.1554 (0.3741)  loss_box_reg: 0.2255 (0.4413)  loss_mask: 0.1131 (0.3525)  loss_objectness: 0.0020 (0.0203)  loss_rpn_box_reg: 0.0050 (0.0114)  time: 20.0465  data: 0.0089  max mem: 0\n",
      "Epoch: [0]  [140/225]  eta: 0:27:27  lr: 0.003149  loss: 0.4520 (1.1456)  loss_classifier: 0.1245 (0.3562)  loss_box_reg: 0.1957 (0.4238)  loss_mask: 0.0991 (0.3353)  loss_objectness: 0.0020 (0.0192)  loss_rpn_box_reg: 0.0050 (0.0111)  time: 19.6826  data: 0.0096  max mem: 0\n",
      "Epoch: [0]  [150/225]  eta: 0:24:14  lr: 0.003372  loss: 0.3907 (1.0978)  loss_classifier: 0.1017 (0.3405)  loss_box_reg: 0.1814 (0.4087)  loss_mask: 0.0852 (0.3198)  loss_objectness: 0.0020 (0.0181)  loss_rpn_box_reg: 0.0050 (0.0107)  time: 19.6811  data: 0.0096  max mem: 0\n",
      "Epoch: [0]  [160/225]  eta: 0:21:09  lr: 0.003595  loss: 0.3521 (1.0549)  loss_classifier: 0.0914 (0.3260)  loss_box_reg: 0.1781 (0.3954)  loss_mask: 0.0822 (0.3057)  loss_objectness: 0.0021 (0.0175)  loss_rpn_box_reg: 0.0035 (0.0103)  time: 20.5306  data: 0.0090  max mem: 0\n",
      "Epoch: [0]  [170/225]  eta: 0:18:00  lr: 0.003818  loss: 0.4009 (1.0173)  loss_classifier: 0.0971 (0.3134)  loss_box_reg: 0.1895 (0.3836)  loss_mask: 0.0810 (0.2929)  loss_objectness: 0.0033 (0.0170)  loss_rpn_box_reg: 0.0035 (0.0104)  time: 21.5248  data: 0.0093  max mem: 0\n",
      "Epoch: [0]  [180/225]  eta: 0:14:49  lr: 0.004041  loss: 0.4061 (0.9838)  loss_classifier: 0.0984 (0.3018)  loss_box_reg: 0.1998 (0.3738)  loss_mask: 0.0824 (0.2816)  loss_objectness: 0.0056 (0.0164)  loss_rpn_box_reg: 0.0049 (0.0102)  time: 21.7536  data: 0.0094  max mem: 0\n",
      "Epoch: [0]  [190/225]  eta: 0:11:36  lr: 0.004264  loss: 0.3505 (0.9554)  loss_classifier: 0.0864 (0.2905)  loss_box_reg: 0.2021 (0.3643)  loss_mask: 0.0830 (0.2714)  loss_objectness: 0.0052 (0.0177)  loss_rpn_box_reg: 0.0036 (0.0115)  time: 22.0628  data: 0.0093  max mem: 0\n",
      "Epoch: [0]  [200/225]  eta: 0:08:20  lr: 0.004487  loss: 0.3673 (0.9270)  loss_classifier: 0.0886 (0.2808)  loss_box_reg: 0.1929 (0.3556)  loss_mask: 0.0776 (0.2620)  loss_objectness: 0.0067 (0.0175)  loss_rpn_box_reg: 0.0032 (0.0112)  time: 22.0758  data: 0.0095  max mem: 0\n",
      "Epoch: [0]  [210/225]  eta: 0:05:00  lr: 0.004710  loss: 0.3944 (0.9083)  loss_classifier: 0.0914 (0.2727)  loss_box_reg: 0.1942 (0.3484)  loss_mask: 0.0888 (0.2563)  loss_objectness: 0.0100 (0.0178)  loss_rpn_box_reg: 0.0050 (0.0131)  time: 21.4269  data: 0.0100  max mem: 0\n",
      "Epoch: [0]  [220/225]  eta: 0:01:40  lr: 0.004933  loss: 0.4039 (0.8856)  loss_classifier: 0.0870 (0.2642)  loss_box_reg: 0.2118 (0.3421)  loss_mask: 0.0927 (0.2490)  loss_objectness: 0.0082 (0.0176)  loss_rpn_box_reg: 0.0060 (0.0128)  time: 21.9624  data: 0.0113  max mem: 0\n",
      "Epoch: [0]  [224/225]  eta: 0:00:20  lr: 0.005000  loss: 0.3997 (0.8791)  loss_classifier: 0.0859 (0.2619)  loss_box_reg: 0.1982 (0.3407)  loss_mask: 0.0914 (0.2464)  loss_objectness: 0.0077 (0.0175)  loss_rpn_box_reg: 0.0049 (0.0127)  time: 22.5256  data: 0.0115  max mem: 0\n",
      "Epoch: [0] Total time: 1:15:52 (20.2350 s / it)\n",
      "creating index...\n",
      "index created!\n"
     ]
    },
    {
     "ename": "RuntimeError",
     "evalue": "Found no NVIDIA driver on your system. Please check that you have an NVIDIA GPU and installed a driver from http://www.nvidia.com/Download/index.aspx",
     "output_type": "error",
     "traceback": [
      "\u001b[0;31m---------------------------------------------------------------------------\u001b[0m",
      "\u001b[0;31mRuntimeError\u001b[0m                              Traceback (most recent call last)",
      "\u001b[0;32m<ipython-input-21-1ea96e94502e>\u001b[0m in \u001b[0;36m<module>\u001b[0;34m\u001b[0m\n\u001b[1;32m      8\u001b[0m     \u001b[0mlr_scheduler\u001b[0m\u001b[0;34m.\u001b[0m\u001b[0mstep\u001b[0m\u001b[0;34m(\u001b[0m\u001b[0;34m)\u001b[0m\u001b[0;34m\u001b[0m\u001b[0;34m\u001b[0m\u001b[0m\n\u001b[1;32m      9\u001b[0m     \u001b[0;31m# evaluate on the test dataset\u001b[0m\u001b[0;34m\u001b[0m\u001b[0;34m\u001b[0m\u001b[0;34m\u001b[0m\u001b[0m\n\u001b[0;32m---> 10\u001b[0;31m     \u001b[0mevaluate\u001b[0m\u001b[0;34m(\u001b[0m\u001b[0mmodel\u001b[0m\u001b[0;34m,\u001b[0m \u001b[0mdata_loader_test\u001b[0m\u001b[0;34m,\u001b[0m \u001b[0mdevice\u001b[0m\u001b[0;34m=\u001b[0m\u001b[0mdevice\u001b[0m\u001b[0;34m)\u001b[0m\u001b[0;34m\u001b[0m\u001b[0;34m\u001b[0m\u001b[0m\n\u001b[0m",
      "\u001b[0;32m~/.local/lib/python3.8/site-packages/torch/autograd/grad_mode.py\u001b[0m in \u001b[0;36mdecorate_context\u001b[0;34m(*args, **kwargs)\u001b[0m\n\u001b[1;32m     25\u001b[0m         \u001b[0;32mdef\u001b[0m \u001b[0mdecorate_context\u001b[0m\u001b[0;34m(\u001b[0m\u001b[0;34m*\u001b[0m\u001b[0margs\u001b[0m\u001b[0;34m,\u001b[0m \u001b[0;34m**\u001b[0m\u001b[0mkwargs\u001b[0m\u001b[0;34m)\u001b[0m\u001b[0;34m:\u001b[0m\u001b[0;34m\u001b[0m\u001b[0;34m\u001b[0m\u001b[0m\n\u001b[1;32m     26\u001b[0m             \u001b[0;32mwith\u001b[0m \u001b[0mself\u001b[0m\u001b[0;34m.\u001b[0m\u001b[0mclone\u001b[0m\u001b[0;34m(\u001b[0m\u001b[0;34m)\u001b[0m\u001b[0;34m:\u001b[0m\u001b[0;34m\u001b[0m\u001b[0;34m\u001b[0m\u001b[0m\n\u001b[0;32m---> 27\u001b[0;31m                 \u001b[0;32mreturn\u001b[0m \u001b[0mfunc\u001b[0m\u001b[0;34m(\u001b[0m\u001b[0;34m*\u001b[0m\u001b[0margs\u001b[0m\u001b[0;34m,\u001b[0m \u001b[0;34m**\u001b[0m\u001b[0mkwargs\u001b[0m\u001b[0;34m)\u001b[0m\u001b[0;34m\u001b[0m\u001b[0;34m\u001b[0m\u001b[0m\n\u001b[0m\u001b[1;32m     28\u001b[0m         \u001b[0;32mreturn\u001b[0m \u001b[0mcast\u001b[0m\u001b[0;34m(\u001b[0m\u001b[0mF\u001b[0m\u001b[0;34m,\u001b[0m \u001b[0mdecorate_context\u001b[0m\u001b[0;34m)\u001b[0m\u001b[0;34m\u001b[0m\u001b[0;34m\u001b[0m\u001b[0m\n\u001b[1;32m     29\u001b[0m \u001b[0;34m\u001b[0m\u001b[0m\n",
      "\u001b[0;32m~/Desktop/RoboticRecycling/engine.py\u001b[0m in \u001b[0;36mevaluate\u001b[0;34m(model, data_loader, device)\u001b[0m\n\u001b[1;32m     84\u001b[0m         \u001b[0mtargets\u001b[0m \u001b[0;34m=\u001b[0m \u001b[0;34m[\u001b[0m\u001b[0;34m{\u001b[0m\u001b[0mk\u001b[0m\u001b[0;34m:\u001b[0m \u001b[0mv\u001b[0m\u001b[0;34m.\u001b[0m\u001b[0mto\u001b[0m\u001b[0;34m(\u001b[0m\u001b[0mdevice\u001b[0m\u001b[0;34m)\u001b[0m \u001b[0;32mfor\u001b[0m \u001b[0mk\u001b[0m\u001b[0;34m,\u001b[0m \u001b[0mv\u001b[0m \u001b[0;32min\u001b[0m \u001b[0mt\u001b[0m\u001b[0;34m.\u001b[0m\u001b[0mitems\u001b[0m\u001b[0;34m(\u001b[0m\u001b[0;34m)\u001b[0m\u001b[0;34m}\u001b[0m \u001b[0;32mfor\u001b[0m \u001b[0mt\u001b[0m \u001b[0;32min\u001b[0m \u001b[0mtargets\u001b[0m\u001b[0;34m]\u001b[0m\u001b[0;34m\u001b[0m\u001b[0;34m\u001b[0m\u001b[0m\n\u001b[1;32m     85\u001b[0m \u001b[0;34m\u001b[0m\u001b[0m\n\u001b[0;32m---> 86\u001b[0;31m         \u001b[0mtorch\u001b[0m\u001b[0;34m.\u001b[0m\u001b[0mcuda\u001b[0m\u001b[0;34m.\u001b[0m\u001b[0msynchronize\u001b[0m\u001b[0;34m(\u001b[0m\u001b[0;34m)\u001b[0m\u001b[0;34m\u001b[0m\u001b[0;34m\u001b[0m\u001b[0m\n\u001b[0m\u001b[1;32m     87\u001b[0m         \u001b[0mmodel_time\u001b[0m \u001b[0;34m=\u001b[0m \u001b[0mtime\u001b[0m\u001b[0;34m.\u001b[0m\u001b[0mtime\u001b[0m\u001b[0;34m(\u001b[0m\u001b[0;34m)\u001b[0m\u001b[0;34m\u001b[0m\u001b[0;34m\u001b[0m\u001b[0m\n\u001b[1;32m     88\u001b[0m         \u001b[0moutputs\u001b[0m \u001b[0;34m=\u001b[0m \u001b[0mmodel\u001b[0m\u001b[0;34m(\u001b[0m\u001b[0mimage\u001b[0m\u001b[0;34m)\u001b[0m\u001b[0;34m\u001b[0m\u001b[0;34m\u001b[0m\u001b[0m\n",
      "\u001b[0;32m~/.local/lib/python3.8/site-packages/torch/cuda/__init__.py\u001b[0m in \u001b[0;36msynchronize\u001b[0;34m(device)\u001b[0m\n\u001b[1;32m    562\u001b[0m             \u001b[0;32mif\u001b[0m \u001b[0;34m:\u001b[0m\u001b[0mattr\u001b[0m\u001b[0;34m:\u001b[0m\u001b[0;31m`\u001b[0m\u001b[0mdevice\u001b[0m\u001b[0;31m`\u001b[0m \u001b[0;32mis\u001b[0m\u001b[0;31m \u001b[0m\u001b[0;31m`\u001b[0m\u001b[0;31m`\u001b[0m\u001b[0;32mNone\u001b[0m\u001b[0;31m`\u001b[0m\u001b[0;31m`\u001b[0m \u001b[0;34m(\u001b[0m\u001b[0mdefault\u001b[0m\u001b[0;34m)\u001b[0m\u001b[0;34m.\u001b[0m\u001b[0;34m\u001b[0m\u001b[0;34m\u001b[0m\u001b[0m\n\u001b[1;32m    563\u001b[0m     \"\"\"\n\u001b[0;32m--> 564\u001b[0;31m     \u001b[0m_lazy_init\u001b[0m\u001b[0;34m(\u001b[0m\u001b[0;34m)\u001b[0m\u001b[0;34m\u001b[0m\u001b[0;34m\u001b[0m\u001b[0m\n\u001b[0m\u001b[1;32m    565\u001b[0m     \u001b[0;32mwith\u001b[0m \u001b[0mtorch\u001b[0m\u001b[0;34m.\u001b[0m\u001b[0mcuda\u001b[0m\u001b[0;34m.\u001b[0m\u001b[0mdevice\u001b[0m\u001b[0;34m(\u001b[0m\u001b[0mdevice\u001b[0m\u001b[0;34m)\u001b[0m\u001b[0;34m:\u001b[0m\u001b[0;34m\u001b[0m\u001b[0;34m\u001b[0m\u001b[0m\n\u001b[1;32m    566\u001b[0m         \u001b[0;32mreturn\u001b[0m \u001b[0mtorch\u001b[0m\u001b[0;34m.\u001b[0m\u001b[0m_C\u001b[0m\u001b[0;34m.\u001b[0m\u001b[0m_cuda_synchronize\u001b[0m\u001b[0;34m(\u001b[0m\u001b[0;34m)\u001b[0m\u001b[0;34m\u001b[0m\u001b[0;34m\u001b[0m\u001b[0m\n",
      "\u001b[0;32m~/.local/lib/python3.8/site-packages/torch/cuda/__init__.py\u001b[0m in \u001b[0;36m_lazy_init\u001b[0;34m()\u001b[0m\n\u001b[1;32m    227\u001b[0m         \u001b[0;32mif\u001b[0m \u001b[0;34m'CUDA_MODULE_LOADING'\u001b[0m \u001b[0;32mnot\u001b[0m \u001b[0;32min\u001b[0m \u001b[0mos\u001b[0m\u001b[0;34m.\u001b[0m\u001b[0menviron\u001b[0m\u001b[0;34m:\u001b[0m\u001b[0;34m\u001b[0m\u001b[0;34m\u001b[0m\u001b[0m\n\u001b[1;32m    228\u001b[0m             \u001b[0mos\u001b[0m\u001b[0;34m.\u001b[0m\u001b[0menviron\u001b[0m\u001b[0;34m[\u001b[0m\u001b[0;34m'CUDA_MODULE_LOADING'\u001b[0m\u001b[0;34m]\u001b[0m \u001b[0;34m=\u001b[0m \u001b[0;34m'LAZY'\u001b[0m\u001b[0;34m\u001b[0m\u001b[0;34m\u001b[0m\u001b[0m\n\u001b[0;32m--> 229\u001b[0;31m         \u001b[0mtorch\u001b[0m\u001b[0;34m.\u001b[0m\u001b[0m_C\u001b[0m\u001b[0;34m.\u001b[0m\u001b[0m_cuda_init\u001b[0m\u001b[0;34m(\u001b[0m\u001b[0;34m)\u001b[0m\u001b[0;34m\u001b[0m\u001b[0;34m\u001b[0m\u001b[0m\n\u001b[0m\u001b[1;32m    230\u001b[0m         \u001b[0;31m# Some of the queued calls may reentrantly call _lazy_init();\u001b[0m\u001b[0;34m\u001b[0m\u001b[0;34m\u001b[0m\u001b[0;34m\u001b[0m\u001b[0m\n\u001b[1;32m    231\u001b[0m         \u001b[0;31m# we need to just return without initializing in that case.\u001b[0m\u001b[0;34m\u001b[0m\u001b[0;34m\u001b[0m\u001b[0;34m\u001b[0m\u001b[0m\n",
      "\u001b[0;31mRuntimeError\u001b[0m: Found no NVIDIA driver on your system. Please check that you have an NVIDIA GPU and installed a driver from http://www.nvidia.com/Download/index.aspx"
     ]
    }
   ],
   "source": [
    "# let's train it for 10 epochs\n",
    "num_epochs = 10\n",
    "\n",
    "for epoch in range(num_epochs):\n",
    "    # train for one epoch, printing every 10 iterations\n",
    "    train_one_epoch(model, optimizer, data_loader, device, epoch, print_freq=10)\n",
    "    # update the learning rate\n",
    "    lr_scheduler.step()\n",
    "    # evaluate on the test dataset\n",
    "    evaluate(model, data_loader_test, device=device)"
   ]
  },
  {
   "cell_type": "markdown",
   "metadata": {
    "id": "XXTyZhCScUTI"
   },
   "source": [
    "If you're going to leave this running for a bit, I recommend scheduling the following cell to run immediately (so that you don't lose your work)."
   ]
  },
  {
   "cell_type": "code",
   "execution_count": 23,
   "metadata": {
    "id": "vUJXn15pGzRj"
   },
   "outputs": [
    {
     "ename": "ModuleNotFoundError",
     "evalue": "No module named 'google.colab'",
     "output_type": "error",
     "traceback": [
      "\u001b[0;31m---------------------------------------------------------------------------\u001b[0m",
      "\u001b[0;31mModuleNotFoundError\u001b[0m                       Traceback (most recent call last)",
      "\u001b[0;32m<ipython-input-23-31cb85aa3145>\u001b[0m in \u001b[0;36m<module>\u001b[0;34m\u001b[0m\n\u001b[1;32m      1\u001b[0m \u001b[0mtorch\u001b[0m\u001b[0;34m.\u001b[0m\u001b[0msave\u001b[0m\u001b[0;34m(\u001b[0m\u001b[0mmodel\u001b[0m\u001b[0;34m.\u001b[0m\u001b[0mstate_dict\u001b[0m\u001b[0;34m(\u001b[0m\u001b[0;34m)\u001b[0m\u001b[0;34m,\u001b[0m \u001b[0;34m'recycling_maskrcnn_model.pt'\u001b[0m\u001b[0;34m)\u001b[0m\u001b[0;34m\u001b[0m\u001b[0;34m\u001b[0m\u001b[0m\n\u001b[1;32m      2\u001b[0m \u001b[0;34m\u001b[0m\u001b[0m\n\u001b[0;32m----> 3\u001b[0;31m \u001b[0;32mfrom\u001b[0m \u001b[0mgoogle\u001b[0m\u001b[0;34m.\u001b[0m\u001b[0mcolab\u001b[0m \u001b[0;32mimport\u001b[0m \u001b[0mfiles\u001b[0m\u001b[0;34m\u001b[0m\u001b[0;34m\u001b[0m\u001b[0m\n\u001b[0m\u001b[1;32m      4\u001b[0m \u001b[0mfiles\u001b[0m\u001b[0;34m.\u001b[0m\u001b[0mdownload\u001b[0m\u001b[0;34m(\u001b[0m\u001b[0;34m'recycling_maskrcnn_model.pt'\u001b[0m\u001b[0;34m)\u001b[0m\u001b[0;34m\u001b[0m\u001b[0;34m\u001b[0m\u001b[0m\n",
      "\u001b[0;31mModuleNotFoundError\u001b[0m: No module named 'google.colab'"
     ]
    }
   ],
   "source": [
    "torch.save(model.state_dict(), 'recycling_maskrcnn_model.pt')"
   ]
  },
  {
   "cell_type": "markdown",
   "metadata": {
    "id": "Z6mYGFLxkO8F"
   },
   "source": [
    "Now that training has finished, let's have a look at what it actually predicts in a test image"
   ]
  },
  {
   "cell_type": "code",
   "execution_count": 42,
   "metadata": {
    "id": "YHwIdxH76uPj"
   },
   "outputs": [],
   "source": [
    "# pick one image from the test set\n",
    "img, _ = dataset_test[12]\n",
    "# put the model in evaluation mode\n",
    "model.eval()\n",
    "with torch.no_grad():\n",
    "    prediction = model([img.to(device)])"
   ]
  },
  {
   "cell_type": "markdown",
   "metadata": {
    "id": "DmN602iKsuey"
   },
   "source": [
    "Printing the prediction shows that we have a list of dictionaries. Each element of the list corresponds to a different image. As we have a single image, there is a single dictionary in the list.\n",
    "The dictionary contains the predictions for the image we passed. In this case, we can see that it contains `boxes`, `labels`, `masks` and `scores` as fields."
   ]
  },
  {
   "cell_type": "code",
   "execution_count": 43,
   "metadata": {
    "id": "Lkmb3qUu6zw3"
   },
   "outputs": [
    {
     "data": {
      "text/plain": [
       "[{'boxes': tensor([[  4.8766, 226.0232, 119.6582, 332.2534],\n",
       "          [179.5180, 231.9349, 224.7156, 279.4048],\n",
       "          [387.4496, 222.2381, 430.2625, 276.2278],\n",
       "          [461.4429, 251.6265, 492.7690, 269.2524],\n",
       "          [400.7354, 219.2912, 481.8138, 273.7930],\n",
       "          [421.3557, 221.5849, 492.0939, 271.3769],\n",
       "          [385.7036, 221.2182, 431.4540, 270.1312],\n",
       "          [ 49.7532, 219.7704, 117.6278, 313.6385],\n",
       "          [462.4286, 245.1715, 491.8524, 268.5836]]),\n",
       "  'labels': tensor([2, 3, 4, 1, 4, 1, 1, 2, 4]),\n",
       "  'scores': tensor([0.9778, 0.9697, 0.9587, 0.9172, 0.5093, 0.1219, 0.0986, 0.0603, 0.0579]),\n",
       "  'masks': tensor([[[[0., 0., 0.,  ..., 0., 0., 0.],\n",
       "            [0., 0., 0.,  ..., 0., 0., 0.],\n",
       "            [0., 0., 0.,  ..., 0., 0., 0.],\n",
       "            ...,\n",
       "            [0., 0., 0.,  ..., 0., 0., 0.],\n",
       "            [0., 0., 0.,  ..., 0., 0., 0.],\n",
       "            [0., 0., 0.,  ..., 0., 0., 0.]]],\n",
       "  \n",
       "  \n",
       "          [[[0., 0., 0.,  ..., 0., 0., 0.],\n",
       "            [0., 0., 0.,  ..., 0., 0., 0.],\n",
       "            [0., 0., 0.,  ..., 0., 0., 0.],\n",
       "            ...,\n",
       "            [0., 0., 0.,  ..., 0., 0., 0.],\n",
       "            [0., 0., 0.,  ..., 0., 0., 0.],\n",
       "            [0., 0., 0.,  ..., 0., 0., 0.]]],\n",
       "  \n",
       "  \n",
       "          [[[0., 0., 0.,  ..., 0., 0., 0.],\n",
       "            [0., 0., 0.,  ..., 0., 0., 0.],\n",
       "            [0., 0., 0.,  ..., 0., 0., 0.],\n",
       "            ...,\n",
       "            [0., 0., 0.,  ..., 0., 0., 0.],\n",
       "            [0., 0., 0.,  ..., 0., 0., 0.],\n",
       "            [0., 0., 0.,  ..., 0., 0., 0.]]],\n",
       "  \n",
       "  \n",
       "          ...,\n",
       "  \n",
       "  \n",
       "          [[[0., 0., 0.,  ..., 0., 0., 0.],\n",
       "            [0., 0., 0.,  ..., 0., 0., 0.],\n",
       "            [0., 0., 0.,  ..., 0., 0., 0.],\n",
       "            ...,\n",
       "            [0., 0., 0.,  ..., 0., 0., 0.],\n",
       "            [0., 0., 0.,  ..., 0., 0., 0.],\n",
       "            [0., 0., 0.,  ..., 0., 0., 0.]]],\n",
       "  \n",
       "  \n",
       "          [[[0., 0., 0.,  ..., 0., 0., 0.],\n",
       "            [0., 0., 0.,  ..., 0., 0., 0.],\n",
       "            [0., 0., 0.,  ..., 0., 0., 0.],\n",
       "            ...,\n",
       "            [0., 0., 0.,  ..., 0., 0., 0.],\n",
       "            [0., 0., 0.,  ..., 0., 0., 0.],\n",
       "            [0., 0., 0.,  ..., 0., 0., 0.]]],\n",
       "  \n",
       "  \n",
       "          [[[0., 0., 0.,  ..., 0., 0., 0.],\n",
       "            [0., 0., 0.,  ..., 0., 0., 0.],\n",
       "            [0., 0., 0.,  ..., 0., 0., 0.],\n",
       "            ...,\n",
       "            [0., 0., 0.,  ..., 0., 0., 0.],\n",
       "            [0., 0., 0.,  ..., 0., 0., 0.],\n",
       "            [0., 0., 0.,  ..., 0., 0., 0.]]]])}]"
      ]
     },
     "execution_count": 43,
     "metadata": {},
     "output_type": "execute_result"
    }
   ],
   "source": [
    "prediction"
   ]
  },
  {
   "cell_type": "markdown",
   "metadata": {
    "id": "RwT21rzotFbH"
   },
   "source": [
    "Let's inspect the image and the predicted segmentation masks.\n",
    "\n",
    "For that, we need to convert the image, which has been rescaled to 0-1 and had the channels flipped so that we have it in `[C, H, W]` format."
   ]
  },
  {
   "cell_type": "code",
   "execution_count": 45,
   "metadata": {
    "id": "bpqN9t1u7B2J"
   },
   "outputs": [
    {
     "data": {
      "image/png": "[encoded data removed]",
      "text/plain": [
       "<PIL.Image.Image image mode=RGB size=640x480 at 0x7FE79DFA8CA0>"
      ]
     },
     "execution_count": 45,
     "metadata": {},
     "output_type": "execute_result"
    }
   ],
   "source": [
    "Image.fromarray(img.mul(255).permute(1, 2, 0).byte().numpy())"
   ]
  },
  {
   "cell_type": "markdown",
   "metadata": {
    "id": "M58J3O9OtT1G"
   },
   "source": [
    "And let's now visualize the top predicted segmentation mask. The masks are predicted as `[N, 1, H, W]`, where `N` is the number of predictions, and are probability maps between 0-1."
   ]
  },
  {
   "cell_type": "code",
   "execution_count": 44,
   "metadata": {
    "id": "5v5S3bm07SO1"
   },
   "outputs": [
    {
     "data": {
      "image/png": "[encoded data removed]",
      "text/plain": [
       "<PIL.Image.Image image mode=L size=640x480 at 0x7FE6EC218AC0>"
      ]
     },
     "execution_count": 44,
     "metadata": {},
     "output_type": "execute_result"
    }
   ],
   "source": [
    "Image.fromarray(prediction[0]['masks'][0, 0].mul(255).byte().cpu().numpy())"
   ]
  }
 ],
 "metadata": {
  "accelerator": "GPU",
  "colab": {
   "name": "clutter_maskrcnn_train.ipynb",
   "provenance": [],
   "toc_visible": true
  },
  "kernelspec": {
   "display_name": "Python 3",
   "language": "python",
   "name": "python3"
  },
  "language_info": {
   "codemirror_mode": {
    "name": "ipython",
    "version": 3
   },
   "file_extension": ".py",
   "mimetype": "text/x-python",
   "name": "python",
   "nbconvert_exporter": "python",
   "pygments_lexer": "ipython3",
   "version": "3.8.10"
  },
  "vscode": {
   "interpreter": {
    "hash": "b0fa6594d8f4cbf19f97940f81e996739fb7646882a419484c72d19e05852a7e"
   }
  }
 },
 "nbformat": 4,
 "nbformat_minor": 1
}
